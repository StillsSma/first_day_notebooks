{
 "cells": [
  {
   "cell_type": "code",
   "execution_count": 18,
   "metadata": {
    "collapsed": false
   },
   "outputs": [
    {
     "name": "stdout",
     "output_type": "stream",
     "text": [
      "What is your word? Doc, note, I dissent. A fast never prevents a fatness. I diet on cod.\n",
      "That's a palindrome!\n"
     ]
    }
   ],
   "source": [
    "word = input(\"What is your word? \")\n",
    "word = word.replace(\" \",\"\")\n",
    "word = word.replace(\",\", \"\")\n",
    "word = word.replace(\"!\",\"\")\n",
    "word = word.replace(\":\",\"\")\n",
    "word = word.replace(\".\",\"\")\n",
    "\n",
    "if word.lower() == word[::-1].lower():\n",
    "    print (\"That's a palindrome!\")\n",
    "    \n",
    "else:\n",
    "    print (\"That's not a palindrome\")\n",
    "    \n",
    "    "
   ]
  },
  {
   "cell_type": "code",
   "execution_count": null,
   "metadata": {
    "collapsed": false
   },
   "outputs": [],
   "source": [
    "\n"
   ]
  },
  {
   "cell_type": "code",
   "execution_count": null,
   "metadata": {
    "collapsed": true
   },
   "outputs": [],
   "source": []
  }
 ],
 "metadata": {
  "kernelspec": {
   "display_name": "Python 3",
   "language": "python",
   "name": "python3"
  },
  "language_info": {
   "codemirror_mode": {
    "name": "ipython",
    "version": 3
   },
   "file_extension": ".py",
   "mimetype": "text/x-python",
   "name": "python",
   "nbconvert_exporter": "python",
   "pygments_lexer": "ipython3",
   "version": "3.5.2"
  }
 },
 "nbformat": 4,
 "nbformat_minor": 1
}
